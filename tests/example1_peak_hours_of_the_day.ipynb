{
 "cells": [
  {
   "cell_type": "code",
   "execution_count": 1,
   "id": "b832d6ee",
   "metadata": {},
   "outputs": [],
   "source": [
    "import numpy as np\n",
    "import pandas as pd\n",
    "import matplotlib.pyplot as plt \n",
    "from peaktk.stats import peakday_helper\n",
    "from peaktk.dataloader import ISONE_helper\n",
    "from peaktk.peakhour_prediction import lstm_peakhour\n",
    "from peaktk.preprocessing import preprocessing, helper\n",
    "\n",
    "from peaktk.metrics import metrics\n",
    "from peaktk.peakhour_prediction import lstm_peakhour\n",
    "from peaktk.peakhour_prediction import lstm_probabilistic\n",
    "\n"
   ]
  },
  {
   "cell_type": "code",
   "execution_count": 2,
   "id": "bb652eb9",
   "metadata": {},
   "outputs": [],
   "source": [
    "%load_ext autoreload\n",
    "%autoreload 2"
   ]
  },
  {
   "cell_type": "code",
   "execution_count": 3,
   "id": "a50ef2f0",
   "metadata": {},
   "outputs": [
    {
     "name": "stderr",
     "output_type": "stream",
     "text": [
      "/Users/phuthipong/miniforge3/envs/mlp/lib/python3.8/site-packages/peaktk/preprocessing/helper.py:200: FutureWarning: The frame.append method is deprecated and will be removed from pandas in a future version. Use pandas.concat instead.\n",
      "  temp_df = temp_df.append(temp_df.iloc[22], ignore_index=True)\n",
      "/Users/phuthipong/miniforge3/envs/mlp/lib/python3.8/site-packages/peaktk/preprocessing/helper.py:200: FutureWarning: The frame.append method is deprecated and will be removed from pandas in a future version. Use pandas.concat instead.\n",
      "  temp_df = temp_df.append(temp_df.iloc[22], ignore_index=True)\n",
      "/Users/phuthipong/miniforge3/envs/mlp/lib/python3.8/site-packages/peaktk/preprocessing/helper.py:200: FutureWarning: The frame.append method is deprecated and will be removed from pandas in a future version. Use pandas.concat instead.\n",
      "  temp_df = temp_df.append(temp_df.iloc[22], ignore_index=True)\n"
     ]
    }
   ],
   "source": [
    "# load ISO−NE data\n",
    "DEMAND_PATH = \"../data/ISONE/\"\n",
    "WEATHER_PATH = \"../data/ISONE/weather\"\n",
    "ISONE_hourly_data = ISONE_helper.load_data_hourly(DEMAND_PATH,WEATHER_PATH)"
   ]
  },
  {
   "cell_type": "code",
   "execution_count": 4,
   "id": "45d0f2b1",
   "metadata": {},
   "outputs": [
    {
     "data": {
      "text/plain": [
       "Load                   13579.659695\n",
       "temperature               53.088097\n",
       "humidity                   0.650039\n",
       "apparentTemperature       50.802523\n",
       "pressure                1016.541374\n",
       "windSpeed                  8.054950\n",
       "cloudCover                 0.557919\n",
       "windBearing              203.817860\n",
       "precipIntensity            0.003985\n",
       "dewPoint                  40.623374\n",
       "precipProbability          0.089609\n",
       "dayofweek                  2.994526\n",
       "dayofyear                183.166971\n",
       "week                      26.072080\n",
       "month                      6.521898\n",
       "hourofday                 11.499886\n",
       "dtype: float64"
      ]
     },
     "execution_count": 4,
     "metadata": {},
     "output_type": "execute_result"
    }
   ],
   "source": [
    "ISONE_hourly_data.mean()"
   ]
  },
  {
   "cell_type": "code",
   "execution_count": 5,
   "id": "c35e27f3",
   "metadata": {},
   "outputs": [],
   "source": [
    "# data preprocessing and preparation\n",
    "ISONE_data_scale, y_scaler = preprocessing.scale(ISONE_hourly_data, min=0 , max=1) \n",
    "X_scaled, y_scaled, idx = preprocessing.combine_sameday_week_before_hourly_data2(ISONE_data_scale, \"Load\")\n",
    "X_train, X_test, y_train, y_test, idx_train, idx_test= helper.train_test_split(X_scaled, y_scaled, idx, test_size=366)\n",
    "\n"
   ]
  },
  {
   "cell_type": "markdown",
   "id": "f2aa0c87",
   "metadata": {},
   "source": [
    "### LSTM PEAK HOUR MODEL"
   ]
  },
  {
   "cell_type": "code",
   "execution_count": 6,
   "id": "e7d919b9",
   "metadata": {},
   "outputs": [
    {
     "name": "stdout",
     "output_type": "stream",
     "text": [
      "Metal device set to: Apple M1\n"
     ]
    },
    {
     "name": "stderr",
     "output_type": "stream",
     "text": [
      "2022-10-10 10:48:48.560581: I tensorflow/core/common_runtime/pluggable_device/pluggable_device_factory.cc:305] Could not identify NUMA node of platform GPU ID 0, defaulting to 0. Your kernel may not have been built with NUMA support.\n",
      "2022-10-10 10:48:48.560682: I tensorflow/core/common_runtime/pluggable_device/pluggable_device_factory.cc:271] Created TensorFlow device (/job:localhost/replica:0/task:0/device:GPU:0 with 0 MB memory) -> physical PluggableDevice (device: 0, name: METAL, pci bus id: <undefined>)\n",
      "2022-10-10 10:48:49.118559: W tensorflow/core/platform/profile_utils/cpu_utils.cc:128] Failed to get CPU frequency: 0 Hz\n",
      "2022-10-10 10:48:51.392756: I tensorflow/core/grappler/optimizers/custom_graph_optimizer_registry.cc:113] Plugin optimizer for device_type GPU is enabled.\n",
      "2022-10-10 10:48:51.741690: I tensorflow/core/grappler/optimizers/custom_graph_optimizer_registry.cc:113] Plugin optimizer for device_type GPU is enabled.\n",
      "2022-10-10 10:48:51.836898: I tensorflow/core/grappler/optimizers/custom_graph_optimizer_registry.cc:113] Plugin optimizer for device_type GPU is enabled.\n",
      "2022-10-10 10:48:51.907468: I tensorflow/core/grappler/optimizers/custom_graph_optimizer_registry.cc:113] Plugin optimizer for device_type GPU is enabled.\n",
      "2022-10-10 10:48:51.969424: I tensorflow/core/grappler/optimizers/custom_graph_optimizer_registry.cc:113] Plugin optimizer for device_type GPU is enabled.\n",
      "2022-10-10 10:48:52.065545: I tensorflow/core/grappler/optimizers/custom_graph_optimizer_registry.cc:113] Plugin optimizer for device_type GPU is enabled.\n",
      "2022-10-10 10:48:52.204722: I tensorflow/core/grappler/optimizers/custom_graph_optimizer_registry.cc:113] Plugin optimizer for device_type GPU is enabled.\n",
      "2022-10-10 10:48:52.319381: I tensorflow/core/grappler/optimizers/custom_graph_optimizer_registry.cc:113] Plugin optimizer for device_type GPU is enabled.\n",
      "2022-10-10 10:48:52.434425: I tensorflow/core/grappler/optimizers/custom_graph_optimizer_registry.cc:113] Plugin optimizer for device_type GPU is enabled.\n",
      "2022-10-10 10:50:22.722191: I tensorflow/core/grappler/optimizers/custom_graph_optimizer_registry.cc:113] Plugin optimizer for device_type GPU is enabled.\n",
      "2022-10-10 10:50:22.846918: I tensorflow/core/grappler/optimizers/custom_graph_optimizer_registry.cc:113] Plugin optimizer for device_type GPU is enabled.\n",
      "2022-10-10 10:50:22.908436: I tensorflow/core/grappler/optimizers/custom_graph_optimizer_registry.cc:113] Plugin optimizer for device_type GPU is enabled.\n"
     ]
    },
    {
     "name": "stdout",
     "output_type": "stream",
     "text": [
      " 4/12 [=========>....................] - ETA: 0s"
     ]
    },
    {
     "name": "stderr",
     "output_type": "stream",
     "text": [
      "2022-10-10 10:50:22.971895: I tensorflow/core/grappler/optimizers/custom_graph_optimizer_registry.cc:113] Plugin optimizer for device_type GPU is enabled.\n",
      "2022-10-10 10:50:23.031548: I tensorflow/core/grappler/optimizers/custom_graph_optimizer_registry.cc:113] Plugin optimizer for device_type GPU is enabled.\n"
     ]
    },
    {
     "name": "stdout",
     "output_type": "stream",
     "text": [
      "12/12 [==============================] - 1s 37ms/step\n"
     ]
    }
   ],
   "source": [
    "\n",
    "lstm_model = lstm_peakhour.LSTMPeakHourModel(num_peak_hours=5)\n",
    "lstm_model.fit(X_train, y_train, epochs=200, verbose=0)\n",
    "y_hat = lstm_model.predict(X_test)\n",
    "\n",
    "\n",
    "\n"
   ]
  },
  {
   "cell_type": "code",
   "execution_count": 7,
   "id": "aa8f836f",
   "metadata": {},
   "outputs": [],
   "source": [
    "def find_peak_hour_gt(y_data, num_peak_hours):\n",
    "    result_list = []\n",
    "    for y in y_data:\n",
    "        idx = np.argpartition(y, -num_peak_hours)[-num_peak_hours:]\n",
    "        result = np.array([False]*24)\n",
    "        result[idx] = True\n",
    "        result_list.append(result)\n",
    "    return np.array(result_list)\n",
    "    "
   ]
  },
  {
   "cell_type": "code",
   "execution_count": 8,
   "id": "bbd17a44",
   "metadata": {},
   "outputs": [
    {
     "data": {
      "text/plain": [
       "(0.8021857923497266, 0.8021857923497266, 0.8750647109577222)"
      ]
     },
     "execution_count": 8,
     "metadata": {},
     "output_type": "execute_result"
    }
   ],
   "source": [
    "y_true_ph = find_peak_hour_gt(y_test, 5)\n",
    "ph_results = metrics.peak_hour_accuracy(y_true_ph, y_hat)\n",
    "ph_results"
   ]
  },
  {
   "cell_type": "markdown",
   "id": "e7275f49",
   "metadata": {},
   "source": [
    "### LSTM PROBABILISTIC MODEL"
   ]
  },
  {
   "cell_type": "code",
   "execution_count": 9,
   "id": "0c57d503",
   "metadata": {},
   "outputs": [],
   "source": [
    "# binary for train\n",
    "y_train_bin = find_peak_hour_gt(y_train, 5)"
   ]
  },
  {
   "cell_type": "code",
   "execution_count": 10,
   "id": "43193e9f",
   "metadata": {},
   "outputs": [
    {
     "name": "stderr",
     "output_type": "stream",
     "text": [
      "2022-10-10 10:50:27.723381: I tensorflow/core/grappler/optimizers/custom_graph_optimizer_registry.cc:113] Plugin optimizer for device_type GPU is enabled.\n",
      "2022-10-10 10:50:28.236427: I tensorflow/core/grappler/optimizers/custom_graph_optimizer_registry.cc:113] Plugin optimizer for device_type GPU is enabled.\n",
      "2022-10-10 10:50:28.360281: I tensorflow/core/grappler/optimizers/custom_graph_optimizer_registry.cc:113] Plugin optimizer for device_type GPU is enabled.\n",
      "2022-10-10 10:50:28.439063: I tensorflow/core/grappler/optimizers/custom_graph_optimizer_registry.cc:113] Plugin optimizer for device_type GPU is enabled.\n",
      "2022-10-10 10:50:28.505891: I tensorflow/core/grappler/optimizers/custom_graph_optimizer_registry.cc:113] Plugin optimizer for device_type GPU is enabled.\n",
      "2022-10-10 10:50:28.571535: I tensorflow/core/grappler/optimizers/custom_graph_optimizer_registry.cc:113] Plugin optimizer for device_type GPU is enabled.\n",
      "2022-10-10 10:50:28.634166: I tensorflow/core/grappler/optimizers/custom_graph_optimizer_registry.cc:113] Plugin optimizer for device_type GPU is enabled.\n",
      "2022-10-10 10:50:28.714100: I tensorflow/core/grappler/optimizers/custom_graph_optimizer_registry.cc:113] Plugin optimizer for device_type GPU is enabled.\n",
      "2022-10-10 10:50:28.826279: I tensorflow/core/grappler/optimizers/custom_graph_optimizer_registry.cc:113] Plugin optimizer for device_type GPU is enabled.\n",
      "2022-10-10 10:50:28.948590: I tensorflow/core/grappler/optimizers/custom_graph_optimizer_registry.cc:113] Plugin optimizer for device_type GPU is enabled.\n",
      "2022-10-10 10:50:29.056583: I tensorflow/core/grappler/optimizers/custom_graph_optimizer_registry.cc:113] Plugin optimizer for device_type GPU is enabled.\n",
      "2022-10-10 10:50:29.165115: I tensorflow/core/grappler/optimizers/custom_graph_optimizer_registry.cc:113] Plugin optimizer for device_type GPU is enabled.\n",
      "2022-10-10 10:50:29.277098: I tensorflow/core/grappler/optimizers/custom_graph_optimizer_registry.cc:113] Plugin optimizer for device_type GPU is enabled.\n",
      "2022-10-10 10:52:38.713294: I tensorflow/core/grappler/optimizers/custom_graph_optimizer_registry.cc:113] Plugin optimizer for device_type GPU is enabled.\n",
      "2022-10-10 10:52:38.954912: I tensorflow/core/grappler/optimizers/custom_graph_optimizer_registry.cc:113] Plugin optimizer for device_type GPU is enabled.\n",
      "2022-10-10 10:52:39.034889: I tensorflow/core/grappler/optimizers/custom_graph_optimizer_registry.cc:113] Plugin optimizer for device_type GPU is enabled.\n",
      "2022-10-10 10:52:39.102632: I tensorflow/core/grappler/optimizers/custom_graph_optimizer_registry.cc:113] Plugin optimizer for device_type GPU is enabled.\n"
     ]
    },
    {
     "name": "stdout",
     "output_type": "stream",
     "text": [
      "\r",
      " 1/12 [=>............................] - ETA: 14s"
     ]
    },
    {
     "name": "stderr",
     "output_type": "stream",
     "text": [
      "2022-10-10 10:52:39.167836: I tensorflow/core/grappler/optimizers/custom_graph_optimizer_registry.cc:113] Plugin optimizer for device_type GPU is enabled.\n",
      "2022-10-10 10:52:39.240036: I tensorflow/core/grappler/optimizers/custom_graph_optimizer_registry.cc:113] Plugin optimizer for device_type GPU is enabled.\n",
      "2022-10-10 10:52:39.297214: I tensorflow/core/grappler/optimizers/custom_graph_optimizer_registry.cc:113] Plugin optimizer for device_type GPU is enabled.\n"
     ]
    },
    {
     "name": "stdout",
     "output_type": "stream",
     "text": [
      "12/12 [==============================] - 2s 54ms/step\n"
     ]
    },
    {
     "name": "stderr",
     "output_type": "stream",
     "text": [
      "/Users/phuthipong/miniforge3/envs/mlp/lib/python3.8/site-packages/peaktk/peakhour_prediction/lstm_probabilistic.py:157: RuntimeWarning: invalid value encountered in sqrt\n",
      "  return 0.1 * np.sqrt(np.array(y_hat) * 100)\n"
     ]
    }
   ],
   "source": [
    "# train LSTM Prob model - can tune hyperparameters\n",
    "lstm_prob = lstm_probabilistic.LSTMProbabilistic(num_peak_hours=5)\n",
    "lstm_prob.fit(X_train, y_train_bin, epochs=200, verbose=0)\n",
    "y_hat = lstm_prob.predict(X_test)\n"
   ]
  },
  {
   "cell_type": "markdown",
   "id": "8a21e2ac",
   "metadata": {},
   "source": [
    "<h3> Demand and Peak Forecasting Plot </h3>"
   ]
  },
  {
   "cell_type": "code",
   "execution_count": 11,
   "id": "03556f45",
   "metadata": {},
   "outputs": [],
   "source": [
    "def plot_fig(y_true, y_pred, peak_pred):\n",
    "    # plot result\n",
    "    show_len = len(y_true)\n",
    "    \n",
    "    fig, ax1 = plt.subplots()\n",
    "    ax1.plot(np.arange(show_len), y_true[:show_len], label=\"Actual\", color=\"#1982c4\")\n",
    "    ax1.plot(np.arange(show_len), y_pred[:show_len], label=\"Forecast\", color=\"#f95738\")\n",
    "    \n",
    "    ax2 = ax1.twinx()\n",
    "    ax2.plot(np.arange(show_len), peak_pred[:show_len], '--', label=\"isPeak\", color=\"#20bf55\")\n",
    "    ax2.set_yticks([0,1,2,3])\n",
    "    ax2.set_yticklabels([\"False\",\"True\",\"\",\"\"])\n",
    "    ax2.set_ylim([-0.3, 4])\n",
    "    \n",
    "    plt.xlabel('Hours of day')\n",
    "    ax1.set_ylabel('Demand (MWh)') \n",
    "    xi = list(range(0, 25, 4))\n",
    "    plt.xticks(xi, xi)\n",
    "    \n",
    "    fig.legend(loc=\"upper left\", bbox_to_anchor=(0,1), bbox_transform=ax1.transAxes)\n",
    "    plt.show()\n",
    "    "
   ]
  },
  {
   "cell_type": "code",
   "execution_count": 12,
   "id": "72ab675b",
   "metadata": {},
   "outputs": [],
   "source": [
    "inv_test_y = y_scaler.inverse_transform(y_test)\n",
    "inv_test_y_flatten = inv_test_y.flatten()"
   ]
  },
  {
   "cell_type": "code",
   "execution_count": 13,
   "id": "8c42eec3",
   "metadata": {},
   "outputs": [
    {
     "data": {
      "image/png": "[encoded data removed]",
      "text/plain": [
       "<Figure size 432x288 with 2 Axes>"
      ]
     },
     "metadata": {
      "needs_background": "light"
     },
     "output_type": "display_data"
    }
   ],
   "source": [
    "plot_fig(inv_test_y[167], y_scaler.inverse_transform(lstm_model.pred_demand)[167], y_true_ph[167])"
   ]
  },
  {
   "cell_type": "markdown",
   "id": "c4d9c16e",
   "metadata": {},
   "source": [
    "### Battery Dispatch Plot - One week"
   ]
  },
  {
   "cell_type": "code",
   "execution_count": 14,
   "id": "04681181",
   "metadata": {},
   "outputs": [],
   "source": [
    "def find_duck(d, num_peak_hours):\n",
    "    idx = np.argpartition(d, num_peak_hours)[:num_peak_hours]\n",
    "    result = np.array([False]*24)\n",
    "    result[idx] = True\n",
    "    return result"
   ]
  },
  {
   "cell_type": "code",
   "execution_count": 15,
   "id": "910d4b07",
   "metadata": {},
   "outputs": [],
   "source": [
    "battery_max_charge = 400\n",
    "new_demand = []\n",
    "pred_demand = y_scaler.inverse_transform(lstm_model.pred_demand)\n",
    "for i in range(y_true_ph.shape[0]):\n",
    "    daily_d = pred_demand[i].copy()\n",
    "    y_duck = find_duck(daily_d, 5)\n",
    "    for j in range(24):\n",
    "        if y_true_ph[i][j]:\n",
    "            daily_d[j] -= battery_max_charge\n",
    "    for j in range(24):\n",
    "        if y_duck[j]:\n",
    "            daily_d[j] += battery_max_charge\n",
    "        \n",
    "    new_demand.append(daily_d)\n",
    "    "
   ]
  },
  {
   "cell_type": "code",
   "execution_count": 16,
   "id": "ef0f4fea",
   "metadata": {},
   "outputs": [],
   "source": [
    "def plot_battery_dispatch(y_true, y_pred):\n",
    "    # plot result\n",
    "    show_len = len(y_true)\n",
    "    \n",
    "    fig, ax1 = plt.subplots()\n",
    "    ax1.plot(np.arange(show_len), y_true[:show_len], label=\"Original Demand\", color=\"#247ba0\")    \n",
    "    ax1.plot(np.arange(show_len), y_pred[:show_len], label=\"After Battery Dispatch\", color=\"#f95738\")\n",
    "    ax1.fill_between(np.arange(show_len), y_true[:show_len], y_pred[:show_len], alpha=0.2)\n",
    "    \n",
    "    plt.xlabel('Days')\n",
    "    ax1.set_ylabel('Demand (MWh)') \n",
    "    \n",
    "    xi = list(range(0, 24*7+1, 24))\n",
    "    \n",
    "    x = list(range(0, 7+1, 1))\n",
    "    plt.xticks(xi, x)\n",
    "    \n",
    "    fig.legend(loc=\"upper left\", bbox_to_anchor=(0,1), bbox_transform=ax1.transAxes)\n",
    "    plt.show()\n",
    "    "
   ]
  },
  {
   "cell_type": "code",
   "execution_count": 17,
   "id": "805434ad",
   "metadata": {},
   "outputs": [
    {
     "data": {
      "image/png": "[encoded data removed]",
      "text/plain": [
       "<Figure size 432x288 with 1 Axes>"
      ]
     },
     "metadata": {
      "needs_background": "light"
     },
     "output_type": "display_data"
    }
   ],
   "source": [
    "plot_battery_dispatch(pred_demand[150:157].flatten(), np.array(new_demand)[150:157].flatten())"
   ]
  },
  {
   "cell_type": "code",
   "execution_count": null,
   "id": "c209533e",
   "metadata": {},
   "outputs": [],
   "source": []
  }
 ],
 "metadata": {
  "kernelspec": {
   "display_name": "Python 3 (ipykernel)",
   "language": "python",
   "name": "python3"
  },
  "language_info": {
   "codemirror_mode": {
    "name": "ipython",
    "version": 3
   },
   "file_extension": ".py",
   "mimetype": "text/x-python",
   "name": "python",
   "nbconvert_exporter": "python",
   "pygments_lexer": "ipython3",
   "version": "3.8.13"
  }
 },
 "nbformat": 4,
 "nbformat_minor": 5
}
